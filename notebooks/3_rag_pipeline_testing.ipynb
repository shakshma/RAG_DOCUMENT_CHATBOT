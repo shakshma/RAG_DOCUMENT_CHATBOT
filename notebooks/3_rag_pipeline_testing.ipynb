{
 "cells": [
  {
   "cell_type": "code",
   "execution_count": 17,
   "id": "88b7547e",
   "metadata": {},
   "outputs": [
    {
     "name": "stdout",
     "output_type": "stream",
     "text": [
      "Current Working Directory set to project root: c:\\Users\\Saksham\\Downloads\\my_rag_chatbot\n"
     ]
    }
   ],
   "source": [
    "# notebooks/3_rag_pipeline_testing.ipynb\n",
    "\n",
    "import os\n",
    "import sys\n",
    "\n",
    "# --- Environment Setup & Diagnostics (Crucial for ModuleNotFoundError) ---\n",
    "# This block ensures the notebook's working directory and Python path are correctly set.\n",
    "\n",
    "# 1. Change the current working directory to the project root.\n",
    "# This is made more robust to handle cases where the notebook isn't run from 'notebooks/'\n",
    "try:\n",
    "    current_dir = os.getcwd()\n",
    "    project_root_indicator = \"my_rag_chatbot\" # Your project's root folder name\n",
    "\n",
    "    # Traverse up the directory tree until the project root is found\n",
    "    while os.path.basename(current_dir) != project_root_indicator and current_dir != os.path.dirname(current_dir):\n",
    "        current_dir = os.path.dirname(current_dir)\n",
    "\n",
    "    if os.path.basename(current_dir) == project_root_indicator:\n",
    "        os.chdir(current_dir)\n",
    "        print(f\"Current Working Directory set to project root: {os.getcwd()}\")\n",
    "    else:\n",
    "        print(f\"Warning: Could not automatically set working directory to '{project_root_indicator}'. Current CWD: {os.getcwd()}\")\n",
    "        print(\"Please ensure you open VS Code from the 'my_rag_chatbot' folder.\")\n",
    "\n",
    "except Exception as e:\n",
    "    print(f\"Error changing directory: {e}\")"
   ]
  },
  {
   "cell_type": "code",
   "execution_count": 18,
   "id": "f6a5fe10",
   "metadata": {},
   "outputs": [],
   "source": [
    "\n",
    "# 2. Add the current project root to the Python system path.\n",
    "# This explicitly tells Python where to look for 'src' and other top-level packages.\n",
    "project_root = os.path.abspath('.')\n",
    "if project_root not in sys.path:\n",
    "    sys.path.insert(0, project_root)\n",
    "    print(f\"Added project root to sys.path: {project_root}\")\n"
   ]
  },
  {
   "cell_type": "code",
   "execution_count": 19,
   "id": "885ab56f",
   "metadata": {},
   "outputs": [
    {
     "name": "stdout",
     "output_type": "stream",
     "text": [
      "Python Executable (Kernel): c:\\Users\\Saksham\\Downloads\\my_rag_chatbot\\.venv\\Scripts\\python.exe\n",
      "\n",
      "Python System Path (sys.path):\n",
      "- c:\\Users\\Saksham\\Downloads\\my_rag_chatbot\n",
      "- C:\\Users\\Saksham\\AppData\\Local\\Programs\\Python\\Python310\\python310.zip\n",
      "- C:\\Users\\Saksham\\AppData\\Local\\Programs\\Python\\Python310\\DLLs\n",
      "- C:\\Users\\Saksham\\AppData\\Local\\Programs\\Python\\Python310\\lib\n",
      "- C:\\Users\\Saksham\\AppData\\Local\\Programs\\Python\\Python310\n",
      "- c:\\Users\\Saksham\\Downloads\\my_rag_chatbot\\.venv\n",
      "- \n",
      "- c:\\Users\\Saksham\\Downloads\\my_rag_chatbot\\.venv\\lib\\site-packages\n",
      "- c:\\Users\\Saksham\\Downloads\\my_rag_chatbot\\.venv\\lib\\site-packages\\win32\n",
      "- c:\\Users\\Saksham\\Downloads\\my_rag_chatbot\\.venv\\lib\\site-packages\\win32\\lib\n",
      "- c:\\Users\\Saksham\\Downloads\\my_rag_chatbot\\.venv\\lib\\site-packages\\Pythonwin\n"
     ]
    }
   ],
   "source": [
    "# 3. Diagnostic checks: Print the Python executable and sys.path\n",
    "# This helps verify which Python interpreter the notebook kernel is actually using\n",
    "# and what paths it's searching.\n",
    "print(f\"Python Executable (Kernel): {sys.executable}\")\n",
    "print(\"\\nPython System Path (sys.path):\")\n",
    "for p in sys.path:\n",
    "    print(f\"- {p}\")\n",
    "\n",
    "# IMPORTANT: Verify the Python Executable path. If it's not pointing to your '.venv'\n",
    "# (e.g., 'C:\\Users\\Saksham\\Downloads\\my_rag_chatbot\\.venv\\Scripts\\python.exe'),\n",
    "# then the kernel is using the wrong environment. You MUST manually select the\n",
    "# correct kernel in VS Code's Jupyter interface (top-right of the notebook).\n",
    "if \".venv\" not in sys.executable:\n",
    "    print(\"\\n----------------------------------------------------------------------\")\n",
    "    print(\"CRITICAL WARNING: The Jupyter kernel is NOT using your '.venv' environment!\")\n",
    "    print(\"The current kernel is: \" + sys.executable)\n",
    "    print(\"You MUST manually change the kernel in VS Code.\")\n",
    "    print(\"Steps:\")\n",
    "    print(\"1. Click on the kernel selector in the top-right of this notebook (e.g., 'Python 3.10.x').\")\n",
    "    print(\"2. From the dropdown, select 'Python Environments'.\")\n",
    "    print(\"3. Find and explicitly select the entry that points to your virtual environment:\")\n",
    "    print(\"   'Python 3.10.9 (.venv): C:\\\\Users\\\\Saksham\\\\Downloads\\\\my_rag_chatbot\\\\.venv\\\\Scripts\\\\python.exe'\")\n",
    "    print(\"   (The Python version might vary slightly, but '.venv' and the path are key).\")\n",
    "    print(\"4. Once selected, restart the kernel (click the circular arrow icon next to the kernel name).\")\n",
    "    print(\"5. Run all cells again.\")\n",
    "    print(\"----------------------------------------------------------------------\")\n",
    "\n"
   ]
  },
  {
   "cell_type": "code",
   "execution_count": 20,
   "id": "5877b30b",
   "metadata": {},
   "outputs": [
    {
     "name": "stdout",
     "output_type": "stream",
     "text": [
      "\n",
      "Attempting to install/verify 'langchain-community' within the notebook kernel...\n",
      "Requirement already satisfied: langchain-community in c:\\users\\saksham\\downloads\\my_rag_chatbot\\.venv\\lib\\site-packages (0.3.27)\n",
      "Requirement already satisfied: langchain-core<1.0.0,>=0.3.66 in c:\\users\\saksham\\downloads\\my_rag_chatbot\\.venv\\lib\\site-packages (from langchain-community) (0.3.68)\n",
      "Requirement already satisfied: langchain<1.0.0,>=0.3.26 in c:\\users\\saksham\\downloads\\my_rag_chatbot\\.venv\\lib\\site-packages (from langchain-community) (0.3.26)\n",
      "Requirement already satisfied: SQLAlchemy<3,>=1.4 in c:\\users\\saksham\\downloads\\my_rag_chatbot\\.venv\\lib\\site-packages (from langchain-community) (2.0.41)\n",
      "Requirement already satisfied: requests<3,>=2 in c:\\users\\saksham\\downloads\\my_rag_chatbot\\.venv\\lib\\site-packages (from langchain-community) (2.32.4)\n",
      "Requirement already satisfied: PyYAML>=5.3 in c:\\users\\saksham\\downloads\\my_rag_chatbot\\.venv\\lib\\site-packages (from langchain-community) (6.0.2)\n",
      "Requirement already satisfied: aiohttp<4.0.0,>=3.8.3 in c:\\users\\saksham\\downloads\\my_rag_chatbot\\.venv\\lib\\site-packages (from langchain-community) (3.12.14)\n",
      "Requirement already satisfied: tenacity!=8.4.0,<10,>=8.1.0 in c:\\users\\saksham\\downloads\\my_rag_chatbot\\.venv\\lib\\site-packages (from langchain-community) (9.1.2)\n",
      "Requirement already satisfied: dataclasses-json<0.7,>=0.5.7 in c:\\users\\saksham\\downloads\\my_rag_chatbot\\.venv\\lib\\site-packages (from langchain-community) (0.6.7)\n",
      "Requirement already satisfied: pydantic-settings<3.0.0,>=2.4.0 in c:\\users\\saksham\\downloads\\my_rag_chatbot\\.venv\\lib\\site-packages (from langchain-community) (2.10.1)\n",
      "Requirement already satisfied: langsmith>=0.1.125 in c:\\users\\saksham\\downloads\\my_rag_chatbot\\.venv\\lib\\site-packages (from langchain-community) (0.4.5)\n",
      "Requirement already satisfied: httpx-sse<1.0.0,>=0.4.0 in c:\\users\\saksham\\downloads\\my_rag_chatbot\\.venv\\lib\\site-packages (from langchain-community) (0.4.1)\n",
      "Requirement already satisfied: numpy>=1.26.2 in c:\\users\\saksham\\downloads\\my_rag_chatbot\\.venv\\lib\\site-packages (from langchain-community) (1.26.4)\n",
      "Requirement already satisfied: aiohappyeyeballs>=2.5.0 in c:\\users\\saksham\\downloads\\my_rag_chatbot\\.venv\\lib\\site-packages (from aiohttp<4.0.0,>=3.8.3->langchain-community) (2.6.1)\n",
      "Requirement already satisfied: aiosignal>=1.4.0 in c:\\users\\saksham\\downloads\\my_rag_chatbot\\.venv\\lib\\site-packages (from aiohttp<4.0.0,>=3.8.3->langchain-community) (1.4.0)\n",
      "Requirement already satisfied: async-timeout<6.0,>=4.0 in c:\\users\\saksham\\downloads\\my_rag_chatbot\\.venv\\lib\\site-packages (from aiohttp<4.0.0,>=3.8.3->langchain-community) (4.0.3)\n",
      "Requirement already satisfied: attrs>=17.3.0 in c:\\users\\saksham\\downloads\\my_rag_chatbot\\.venv\\lib\\site-packages (from aiohttp<4.0.0,>=3.8.3->langchain-community) (25.3.0)\n",
      "Requirement already satisfied: frozenlist>=1.1.1 in c:\\users\\saksham\\downloads\\my_rag_chatbot\\.venv\\lib\\site-packages (from aiohttp<4.0.0,>=3.8.3->langchain-community) (1.7.0)\n",
      "Requirement already satisfied: multidict<7.0,>=4.5 in c:\\users\\saksham\\downloads\\my_rag_chatbot\\.venv\\lib\\site-packages (from aiohttp<4.0.0,>=3.8.3->langchain-community) (6.6.3)\n",
      "Requirement already satisfied: propcache>=0.2.0 in c:\\users\\saksham\\downloads\\my_rag_chatbot\\.venv\\lib\\site-packages (from aiohttp<4.0.0,>=3.8.3->langchain-community) (0.3.2)\n",
      "Requirement already satisfied: yarl<2.0,>=1.17.0 in c:\\users\\saksham\\downloads\\my_rag_chatbot\\.venv\\lib\\site-packages (from aiohttp<4.0.0,>=3.8.3->langchain-community) (1.20.1)\n",
      "Requirement already satisfied: marshmallow<4.0.0,>=3.18.0 in c:\\users\\saksham\\downloads\\my_rag_chatbot\\.venv\\lib\\site-packages (from dataclasses-json<0.7,>=0.5.7->langchain-community) (3.26.1)\n",
      "Requirement already satisfied: typing-inspect<1,>=0.4.0 in c:\\users\\saksham\\downloads\\my_rag_chatbot\\.venv\\lib\\site-packages (from dataclasses-json<0.7,>=0.5.7->langchain-community) (0.9.0)\n",
      "Requirement already satisfied: langchain-text-splitters<1.0.0,>=0.3.8 in c:\\users\\saksham\\downloads\\my_rag_chatbot\\.venv\\lib\\site-packages (from langchain<1.0.0,>=0.3.26->langchain-community) (0.3.8)\n",
      "Requirement already satisfied: pydantic<3.0.0,>=2.7.4 in c:\\users\\saksham\\downloads\\my_rag_chatbot\\.venv\\lib\\site-packages (from langchain<1.0.0,>=0.3.26->langchain-community) (2.11.7)\n",
      "Requirement already satisfied: jsonpatch<2.0,>=1.33 in c:\\users\\saksham\\downloads\\my_rag_chatbot\\.venv\\lib\\site-packages (from langchain-core<1.0.0,>=0.3.66->langchain-community) (1.33)\n",
      "Requirement already satisfied: packaging<25,>=23.2 in c:\\users\\saksham\\downloads\\my_rag_chatbot\\.venv\\lib\\site-packages (from langchain-core<1.0.0,>=0.3.66->langchain-community) (24.2)\n",
      "Requirement already satisfied: typing-extensions>=4.7 in c:\\users\\saksham\\downloads\\my_rag_chatbot\\.venv\\lib\\site-packages (from langchain-core<1.0.0,>=0.3.66->langchain-community) (4.14.1)\n",
      "Requirement already satisfied: jsonpointer>=1.9 in c:\\users\\saksham\\downloads\\my_rag_chatbot\\.venv\\lib\\site-packages (from jsonpatch<2.0,>=1.33->langchain-core<1.0.0,>=0.3.66->langchain-community) (3.0.0)\n",
      "Requirement already satisfied: annotated-types>=0.6.0 in c:\\users\\saksham\\downloads\\my_rag_chatbot\\.venv\\lib\\site-packages (from pydantic<3.0.0,>=2.7.4->langchain<1.0.0,>=0.3.26->langchain-community) (0.7.0)\n",
      "Requirement already satisfied: pydantic-core==2.33.2 in c:\\users\\saksham\\downloads\\my_rag_chatbot\\.venv\\lib\\site-packages (from pydantic<3.0.0,>=2.7.4->langchain<1.0.0,>=0.3.26->langchain-community) (2.33.2)\n",
      "Requirement already satisfied: typing-inspection>=0.4.0 in c:\\users\\saksham\\downloads\\my_rag_chatbot\\.venv\\lib\\site-packages (from pydantic<3.0.0,>=2.7.4->langchain<1.0.0,>=0.3.26->langchain-community) (0.4.1)\n",
      "Requirement already satisfied: python-dotenv>=0.21.0 in c:\\users\\saksham\\downloads\\my_rag_chatbot\\.venv\\lib\\site-packages (from pydantic-settings<3.0.0,>=2.4.0->langchain-community) (1.1.1)\n",
      "Requirement already satisfied: charset_normalizer<4,>=2 in c:\\users\\saksham\\downloads\\my_rag_chatbot\\.venv\\lib\\site-packages (from requests<3,>=2->langchain-community) (3.4.2)\n",
      "Requirement already satisfied: idna<4,>=2.5 in c:\\users\\saksham\\downloads\\my_rag_chatbot\\.venv\\lib\\site-packages (from requests<3,>=2->langchain-community) (3.10)\n",
      "Requirement already satisfied: urllib3<3,>=1.21.1 in c:\\users\\saksham\\downloads\\my_rag_chatbot\\.venv\\lib\\site-packages (from requests<3,>=2->langchain-community) (2.5.0)\n",
      "Requirement already satisfied: certifi>=2017.4.17 in c:\\users\\saksham\\downloads\\my_rag_chatbot\\.venv\\lib\\site-packages (from requests<3,>=2->langchain-community) (2025.7.9)\n",
      "Requirement already satisfied: greenlet>=1 in c:\\users\\saksham\\downloads\\my_rag_chatbot\\.venv\\lib\\site-packages (from SQLAlchemy<3,>=1.4->langchain-community) (3.2.3)\n",
      "Requirement already satisfied: mypy-extensions>=0.3.0 in c:\\users\\saksham\\downloads\\my_rag_chatbot\\.venv\\lib\\site-packages (from typing-inspect<1,>=0.4.0->dataclasses-json<0.7,>=0.5.7->langchain-community) (1.1.0)\n",
      "Requirement already satisfied: httpx<1,>=0.23.0 in c:\\users\\saksham\\downloads\\my_rag_chatbot\\.venv\\lib\\site-packages (from langsmith>=0.1.125->langchain-community) (0.28.1)\n",
      "Requirement already satisfied: orjson<4.0.0,>=3.9.14 in c:\\users\\saksham\\downloads\\my_rag_chatbot\\.venv\\lib\\site-packages (from langsmith>=0.1.125->langchain-community) (3.10.18)\n",
      "Requirement already satisfied: requests-toolbelt<2.0.0,>=1.0.0 in c:\\users\\saksham\\downloads\\my_rag_chatbot\\.venv\\lib\\site-packages (from langsmith>=0.1.125->langchain-community) (1.0.0)\n",
      "Requirement already satisfied: zstandard<0.24.0,>=0.23.0 in c:\\users\\saksham\\downloads\\my_rag_chatbot\\.venv\\lib\\site-packages (from langsmith>=0.1.125->langchain-community) (0.23.0)\n",
      "Requirement already satisfied: anyio in c:\\users\\saksham\\downloads\\my_rag_chatbot\\.venv\\lib\\site-packages (from httpx<1,>=0.23.0->langsmith>=0.1.125->langchain-community) (4.9.0)\n",
      "Requirement already satisfied: httpcore==1.* in c:\\users\\saksham\\downloads\\my_rag_chatbot\\.venv\\lib\\site-packages (from httpx<1,>=0.23.0->langsmith>=0.1.125->langchain-community) (1.0.9)\n",
      "Requirement already satisfied: h11>=0.16 in c:\\users\\saksham\\downloads\\my_rag_chatbot\\.venv\\lib\\site-packages (from httpcore==1.*->httpx<1,>=0.23.0->langsmith>=0.1.125->langchain-community) (0.16.0)\n",
      "Requirement already satisfied: exceptiongroup>=1.0.2 in c:\\users\\saksham\\downloads\\my_rag_chatbot\\.venv\\lib\\site-packages (from anyio->httpx<1,>=0.23.0->langsmith>=0.1.125->langchain-community) (1.3.0)\n",
      "Requirement already satisfied: sniffio>=1.1 in c:\\users\\saksham\\downloads\\my_rag_chatbot\\.venv\\lib\\site-packages (from anyio->httpx<1,>=0.23.0->langsmith>=0.1.125->langchain-community) (1.3.1)\n",
      "\n",
      "Checking installed 'langchain' related packages (if the correct kernel is active):\n"
     ]
    },
    {
     "name": "stderr",
     "output_type": "stream",
     "text": [
      "ERROR: Invalid requirement: '#': Expected package name at the start of dependency specifier\n",
      "    #\n",
      "    ^\n"
     ]
    },
    {
     "name": "stdout",
     "output_type": "stream",
     "text": [
      "langchain                 0.3.26\n",
      "langchain-community       0.3.27\n",
      "langchain-core            0.3.68\n",
      "langchain-text-splitters  0.3.8\n",
      "sentence-transformers     5.0.0\n"
     ]
    }
   ],
   "source": [
    "# 4. (Optional, but recommended for stubborn ModuleNotFoundErrors):\n",
    "# Directly install/re-verify langchain-community within this notebook's kernel.\n",
    "# This is a last resort to ensure the package is present in the *active* kernel.\n",
    "# You might see \"Requirement already satisfied\" if it's there.\n",
    "print(\"\\nAttempting to install/verify 'langchain-community' within the notebook kernel...\")\n",
    "# Removed the problematic comment from the shell command\n",
    "!pip install langchain-community\n",
    "!pip install --upgrade ipykernel # Ensure ipykernel is also up-to-date for the kernel\n",
    "print(\"\\nChecking installed 'langchain' related packages (if the correct kernel is active):\")\n",
    "# Use 'findstr' for Windows compatibility instead of 'grep'\n",
    "!pip list | findstr /C:\"langchain\" /C:\"sentence-transformers\"\n",
    "\n",
    "\n",
    "# --- End of Environment Setup & Diagnostics ---\n"
   ]
  },
  {
   "cell_type": "code",
   "execution_count": 21,
   "id": "e80fc06b",
   "metadata": {},
   "outputs": [
    {
     "name": "stdout",
     "output_type": "stream",
     "text": [
      "\n",
      "Successfully imported DocumentRetriever, ResponseGenerator, and Document!\n",
      "\n",
      "--- Running RAG Pipeline Test ---\n",
      "\n",
      "An error occurred during RAG pipeline testing: DocumentRetriever.__init__() got an unexpected keyword argument 'embeddings_model_name'\n"
     ]
    },
    {
     "name": "stderr",
     "output_type": "stream",
     "text": [
      "Traceback (most recent call last):\n",
      "  File \"C:\\Users\\Saksham\\AppData\\Local\\Temp\\ipykernel_45552\\3976097940.py\", line 30, in run_rag_pipeline_test\n",
      "    retriever = DocumentRetriever(\n",
      "TypeError: DocumentRetriever.__init__() got an unexpected keyword argument 'embeddings_model_name'\n"
     ]
    }
   ],
   "source": [
    "# --- End of Environment Setup & Diagnostics ---\n",
    "\n",
    "\n",
    "# --- Import necessary modules from src and langchain ---\n",
    "# These imports should now work after the environment setup.\n",
    "from src.retriever import DocumentRetriever\n",
    "from src.generator import ResponseGenerator\n",
    "from langchain_core.documents import Document # For type hinting and creating dummy docs if needed\n",
    "\n",
    "print(\"\\nSuccessfully imported DocumentRetriever, ResponseGenerator, and Document!\")\n",
    "\n",
    "\n",
    "# --- Placeholder for RAG Pipeline Testing Logic ---\n",
    "# You can now add your actual RAG pipeline testing code here.\n",
    "\n",
    "def run_rag_pipeline_test():\n",
    "    \"\"\"\n",
    "    Placeholder function for testing the RAG pipeline.\n",
    "    Replace with your actual testing logic.\n",
    "    \"\"\"\n",
    "    print(\"\\n--- Running RAG Pipeline Test ---\")\n",
    "\n",
    "    # Example: Initialize retriever (replace with your actual initialization)\n",
    "    # This might require loading your FAISS index and embeddings model\n",
    "    try:\n",
    "        # Assuming your retriever needs paths to vectordb and chunks\n",
    "        # Adjust these paths based on your actual project structure and data location\n",
    "        # For example, if vectordb is at project_root/vectordb/\n",
    "        # and chunks are at project_root/chunks/\n",
    "        retriever = DocumentRetriever(\n",
    "            embeddings_model_name=\"sentence-transformers/all-MiniLM-L6-v2\",\n",
    "            faiss_index_path=\"vectordb/faiss_index.faiss\",\n",
    "            chunks_path=\"chunks/processed_chunks.pkl\" # Assuming you save chunks as a pickle\n",
    "        )\n",
    "        print(\"DocumentRetriever initialized successfully.\")\n",
    "\n",
    "        # Example: Perform a retrieval\n",
    "        query = \"What is the main topic of the documents?\"\n",
    "        retrieved_docs = retriever.retrieve_documents(query, k=3)\n",
    "        print(f\"\\nRetrieved documents for query: '{query}')\")\n",
    "        for i, doc in enumerate(retrieved_docs):\n",
    "            print(f\"  Doc {i+1}: {doc.page_content[:100]}...\") # Print first 100 chars\n",
    "            print(f\"  Source: {doc.metadata.get('source', 'N/A')}\")\n",
    "\n",
    "        # Example: Initialize generator (replace with your actual initialization)\n",
    "        # Assuming your generator needs an LLM\n",
    "        generator = ResponseGenerator(llm_model_name=\"gpt-3.5-turbo\") # Or your local LLM\n",
    "        print(\"\\nResponseGenerator initialized successfully.\")\n",
    "\n",
    "        # Example: Generate a response\n",
    "        context = \" \".join([doc.page_content for doc in retrieved_docs])\n",
    "        question = \"Summarize the key information from the retrieved documents.\"\n",
    "        response = generator.generate_response(question, context)\n",
    "        print(f\"\\nGenerated Response for question: '{question}'\")\n",
    "        print(response)\n",
    "\n",
    "    except Exception as e:\n",
    "        print(f\"\\nAn error occurred during RAG pipeline testing: {e}\")\n",
    "        import traceback\n",
    "        traceback.print_exc() # Print full traceback for detailed error info\n",
    "\n",
    "# Run the test pipeline\n",
    "if __name__ == \"__main__\":\n",
    "    run_rag_pipeline_test()\n"
   ]
  }
 ],
 "metadata": {
  "kernelspec": {
   "display_name": ".venv",
   "language": "python",
   "name": "python3"
  },
  "language_info": {
   "codemirror_mode": {
    "name": "ipython",
    "version": 3
   },
   "file_extension": ".py",
   "mimetype": "text/x-python",
   "name": "python",
   "nbconvert_exporter": "python",
   "pygments_lexer": "ipython3",
   "version": "3.10.9"
  }
 },
 "nbformat": 4,
 "nbformat_minor": 5
}
